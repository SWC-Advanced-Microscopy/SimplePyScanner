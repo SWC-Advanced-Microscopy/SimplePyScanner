{
 "cells": [
  {
   "cell_type": "markdown",
   "metadata": {},
   "source": [
    "[](raster.png)"
   ]
  },
  {
   "cell_type": "markdown",
   "metadata": {},
   "source": [
    "In this exercise you will plot one of your scan waveforms as an image. This is the same operation you will later need to perform in order to convert your photodiode signal into a 2D image."
   ]
  },
  {
   "cell_type": "code",
   "execution_count": null,
   "metadata": {},
   "outputs": [],
   "source": [
    "import numpy as np\n",
    "import matplotlib.pyplot as plt"
   ]
  },
  {
   "cell_type": "code",
   "execution_count": null,
   "metadata": {},
   "outputs": [],
   "source": [
    "# We generate the waveforms as you produced previously\n",
    "\n",
    "imsize = 64      # target image size in pixels (imsize x imsize)\n",
    "scan_amplitude = 2 # The scanners will move between -scan_amplitude and +scan_amplitude\n",
    "\n",
    "y_waveform = np.linspace(-scan_amplitude,scan_amplitude,imsize**2)\n",
    "\n",
    "_x =  np.linspace(-scan_amplitude,scan_amplitude,imsize)\n",
    "x_waveform = np.tile(_x,imsize)\n",
    "\n",
    "# Plot the above traces\n",
    "fig,tAxes = plt.subplots(3,1,gridspec_kw={'height_ratios': [1, 1, 5]})\n",
    "fig.set_size_inches(10.5, 10.5)\n",
    "# Y waveform\n",
    "tAxes[0].plot(y_waveform)\n",
    "tAxes[0].set_title('y waveform')\n",
    "tAxes[0].set_ylabel('voltage')\n",
    "\n",
    "# Y waveform\n",
    "tAxes[1].plot(x_waveform)\n",
    "tAxes[1].set_title('x waveform')\n",
    "tAxes[1].set_ylabel('voltage')\n",
    "\n",
    "tAxes[2].plot(x_waveform,y_waveform)\n",
    "tAxes[2].set_xlabel('x position (v)')\n",
    "tAxes[2].set_ylabel('y position (v)')\n",
    "tAxes[2].axis('tight')\n",
    "\n",
    "fig.tight_layout()\n",
    "plt.show()"
   ]
  },
  {
   "cell_type": "markdown",
   "metadata": {},
   "source": [
    "The above waveforms yield an image with the number of pixel columns equal to`imsize` and the number of pixel rows equal to `imsize`. \n",
    "If we plot the amplitude of the y command signal at each pixel we will get a plot that looks like this:\n",
    "\n",
    "![alt text](y_waveform.png \"Title\")\n",
    "\n",
    "Your goal in the exercise below is reproduce this plot using the vector `y_waveform`. "
   ]
  },
  {
   "cell_type": "code",
   "execution_count": null,
   "metadata": {},
   "outputs": [],
   "source": [
    "# EXERCISE:\n",
    "# Convert the y mirror waveform into a 2D surface plot showing the y voltage \n",
    "# value at each pixel. HINT: reshape, imshow\n",
    "\n",
    "im = np.\n"
   ]
  }
 ],
 "metadata": {
  "kernelspec": {
   "display_name": "Python 3",
   "language": "python",
   "name": "python3"
  },
  "language_info": {
   "codemirror_mode": {
    "name": "ipython",
    "version": 3
   },
   "file_extension": ".py",
   "mimetype": "text/x-python",
   "name": "python",
   "nbconvert_exporter": "python",
   "pygments_lexer": "ipython3",
   "version": "3.8.10"
  }
 },
 "nbformat": 4,
 "nbformat_minor": 4
}
