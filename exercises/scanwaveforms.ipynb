{
 "cells": [
  {
   "cell_type": "markdown",
   "metadata": {},
   "source": [
    "[](raster.png)"
   ]
  },
  {
   "cell_type": "markdown",
   "metadata": {},
   "source": [
    "In this exercise you will generate scanner X/Y waveforms capable of producing a raster pattern that moves the beam in shape over the image:\n",
    "![alt text](raster.png \"Title\")\n",
    "The goal is to generate waveforms that will produce a square image: one where the number of pixels per line equals the number of lines. Note carefully the shape of the waveform: the beam scans across each line in the same direction. "
   ]
  },
  {
   "cell_type": "code",
   "execution_count": 4,
   "metadata": {},
   "outputs": [],
   "source": [
    "import numpy as np\n",
    "import matplotlib.pyplot as plt"
   ]
  },
  {
   "cell_type": "code",
   "execution_count": 1,
   "metadata": {},
   "outputs": [],
   "source": [
    "# You will use the following two constants to help you build the waveforms. \n",
    "imsize = 128.      # target image size in pixels (imsize x imsize)\n",
    "scan_amplitude = 2 # The scanners will move between -scan_amplitude and +scan_amplitude"
   ]
  },
  {
   "cell_type": "code",
   "execution_count": null,
   "metadata": {},
   "outputs": [],
   "source": [
    "# Over the course of one frame the slow (y) scanner will move from one \n",
    "# extreme of the amplitude range to the other to the other once. \n",
    "# The number of pixels (samples) it takes to do this will be equal to \n",
    "# the total number of pixels in the frame.\n",
    "#\n",
    "# In one line of code, define the y waveform. (HINT: linspace)\n",
    "\n",
    "y_waveform = \n"
   ]
  },
  {
   "cell_type": "code",
   "execution_count": null,
   "metadata": {},
   "outputs": [],
   "source": [
    "# The x mirror will move over the amplitude range once per line. \n",
    "#\n",
    "# In one line of code, define the x waveform for one scan line.\n",
    "# HINT: it's almost the same as what you did for y_waveform.\n",
    "one_scan_line = \n",
    "\n",
    "# Use the vector you created to generate the complete x waveform\n",
    "# for one frame. Think how many times you have to repeat the waveform\n",
    "x_waveform =\n"
   ]
  },
  {
   "cell_type": "markdown",
   "metadata": {},
   "source": [
    "## Run the following cells to check your working"
   ]
  },
  {
   "cell_type": "code",
   "execution_count": null,
   "metadata": {},
   "outputs": [],
   "source": [
    "# Y waveform\n",
    "plt.plot(y_waveform)\n",
    "plt.title('y waveform')\n",
    "plt.ylabel('voltage')\n",
    "plt.show()"
   ]
  },
  {
   "cell_type": "code",
   "execution_count": null,
   "metadata": {},
   "outputs": [],
   "source": [
    "# X waveform\n",
    "plt.plot(x_waveform)\n",
    "plt.title('x waveform')\n",
    "plt.ylabel('voltage')\n",
    "plt.xlabel('# samples')\n",
    "plt.show()"
   ]
  },
  {
   "cell_type": "code",
   "execution_count": null,
   "metadata": {},
   "outputs": [],
   "source": [
    "# The raster waveform\n",
    "plt.plot(x_waveform,y_waveform)\n",
    "plt.axis('equal')\n",
    "plt.axis('off')\n",
    "plt.show()\n",
    "\n",
    "print('X waveform length: %d\\nY waveform length: %d\\nLength of scan line in samples: %d\\n' % \\\n",
    "      (len(y_waveform), len(x_waveform), len(one_scan_line)) )\n"
   ]
  }
 ],
 "metadata": {
  "kernelspec": {
   "display_name": "Python 3",
   "language": "python",
   "name": "python3"
  },
  "language_info": {
   "codemirror_mode": {
    "name": "ipython",
    "version": 3
   },
   "file_extension": ".py",
   "mimetype": "text/x-python",
   "name": "python",
   "nbconvert_exporter": "python",
   "pygments_lexer": "ipython3",
   "version": "3.7.4"
  }
 },
 "nbformat": 4,
 "nbformat_minor": 4
}
