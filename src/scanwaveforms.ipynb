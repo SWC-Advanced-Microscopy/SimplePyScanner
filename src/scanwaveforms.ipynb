{
 "cells": [
  {
   "cell_type": "code",
   "execution_count": null,
   "metadata": {},
   "outputs": [],
   "source": [
    "import numpy as np\n",
    "import matplotlib.pyplot as plt"
   ]
  },
  {
   "cell_type": "code",
   "execution_count": null,
   "metadata": {},
   "outputs": [],
   "source": [
    "imsize = 32        # target image size in pixels (imsize x imsize)\n",
    "scan_amplitude = 2 # scanners will move between -2 and +2 V\n",
    "\n",
    "# Over the course of one frame the slow (y) scanner will move from one \n",
    "# extreme to the other. The number of pixels (samples) it takes to \n",
    "# do this will be equal to the total number of pixels in the frame.\n",
    "y_waveform = np.linspace(-scan_amplitude,scan_amplitude, imsize**2)\n",
    "\n",
    "# The x mirror will move over the amplitude range once per line:\n",
    "one_scan_line = np.linspace(-scan_amplitude,scan_amplitude, imsize)\n",
    "\n",
    "# The x waveform will be repeated once per line\n",
    "x_waveform = np.tile(one_scan_line,imsize)\n",
    "\n",
    "# Note that you can make a \"stepped\" y waveform as follows:\n",
    "y_waveform_stepped = np.repeat(one_scan_line,imsize)\n",
    "\n",
    "print('X waveform length: %d\\nY waveform length: %d\\nLength of scan line in samples: %d\\n' % \\\n",
    "      (len(y_waveform), len(x_waveform), len(one_scan_line)) )"
   ]
  },
  {
   "cell_type": "code",
   "execution_count": null,
   "metadata": {},
   "outputs": [],
   "source": [
    "plt.plot(y_waveform)\n",
    "plt.title('y waveform')\n",
    "plt.ylabel('voltage')\n",
    "plt.show()\n",
    "\n",
    "plt.plot(y_waveform_stepped)\n",
    "plt.title('stepped y waveform')\n",
    "plt.ylabel('voltage')\n",
    "plt.show()\n",
    "\n",
    "plt.plot(x_waveform)\n",
    "plt.title('x waveform')\n",
    "plt.ylabel('voltage')\n",
    "plt.xlabel('# samples')\n",
    "plt.show()\n",
    "\n",
    "plt.plot(x_waveform,y_waveform_stepped)\n",
    "plt.ylabel('voltage')\n",
    "plt.xlabel('# samples')\n",
    "plt.axis('equal')\n",
    "plt.axis('off')\n",
    "plt.show()"
   ]
  },
  {
   "cell_type": "code",
   "execution_count": null,
   "metadata": {},
   "outputs": [],
   "source": []
  }
 ],
 "metadata": {
  "kernelspec": {
   "display_name": "Python 3",
   "language": "python",
   "name": "python3"
  },
  "language_info": {
   "codemirror_mode": {
    "name": "ipython",
    "version": 3
   },
   "file_extension": ".py",
   "mimetype": "text/x-python",
   "name": "python",
   "nbconvert_exporter": "python",
   "pygments_lexer": "ipython3",
   "version": "3.7.4"
  }
 },
 "nbformat": 4,
 "nbformat_minor": 4
}
